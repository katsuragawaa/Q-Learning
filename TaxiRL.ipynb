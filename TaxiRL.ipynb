{
 "cells": [
  {
   "cell_type": "code",
   "execution_count": 2,
   "metadata": {},
   "outputs": [],
   "source": [
    "# importar packeges\n",
    "import gym\n",
    "import numpy as np\n",
    "import matplotlib.pyplot as plt\n",
    "from IPython.display import clear_output\n",
    "import random"
   ]
  },
  {
   "cell_type": "code",
   "execution_count": 3,
   "metadata": {},
   "outputs": [],
   "source": [
    "env = gym.make(\"Taxi-v3\")"
   ]
  },
  {
   "cell_type": "code",
   "execution_count": 5,
   "metadata": {},
   "outputs": [
    {
     "name": "stdout",
     "output_type": "stream",
     "text": [
      "Episode: 4\n",
      "Score: -821\n"
     ]
    }
   ],
   "source": [
    "episodes = 5\n",
    "\n",
    "for episode in range(1, episodes):\n",
    "    state = env.reset()\n",
    "    done = False\n",
    "    score = 0\n",
    "    \n",
    "    while not done:\n",
    "        env.render()\n",
    "        state, reward, done, info = env.step(env.action_space.sample())\n",
    "        score += reward\n",
    "        clear_output(wait=True)\n",
    "    \n",
    "    print(\"Episode: {}\\nScore: {}\".format(episode, score))\n",
    "    \n",
    "env.close()"
   ]
  },
  {
   "cell_type": "code",
   "execution_count": 4,
   "metadata": {},
   "outputs": [],
   "source": [
    "# Criando Q-Table\n",
    "actions = env.action_space.n\n",
    "state = env.observation_space.n\n",
    "\n",
    "q_table = np.zeros((state, actions))"
   ]
  },
  {
   "cell_type": "code",
   "execution_count": 20,
   "metadata": {},
   "outputs": [],
   "source": [
    "# Parametros para Q-Learning\n",
    "num_episodes = 10000000\n",
    "max_steps_per_episode = 100000\n",
    "\n",
    "learning_rate = .00001\n",
    "discount_rate = 0.99\n",
    "\n",
    "exploration_rate = 1\n",
    "max_exploration_rate = 1\n",
    "min_exploration_rate = 0.01\n",
    "exploration_decay_rate = 0.1\n",
    "\n",
    "rewards_all_episodes = []"
   ]
  },
  {
   "cell_type": "code",
   "execution_count": null,
   "metadata": {},
   "outputs": [],
   "source": [
    "#Q-Learning algorithm\n",
    "for episode in range(num_episodes):\n",
    "    state = env.reset()\n",
    "    done = False\n",
    "    rewards_current_episode = 0\n",
    "    \n",
    "    for step in range(max_steps_per_episode):\n",
    "        # Exploration vs Exploitation\n",
    "        exploration_threshold = random.uniform(0, 1)\n",
    "        if exploration_threshold > exploration_rate:\n",
    "            action = np.argmax(q_table[state,:])\n",
    "        else:\n",
    "            action = env.action_space.sample()\n",
    "            \n",
    "        new_state, reward, done, info = env.step(action)\n",
    "        \n",
    "        # Update Q-Table\n",
    "        q_table[state, action] = q_table[state, action] * (1 - learning_rate) + learning_rate * (reward + discount_rate * np.max(q_table[new_state, :]))\n",
    "        \n",
    "        state = new_state\n",
    "        rewards_current_episode += reward\n",
    "        \n",
    "        if done == True:\n",
    "            break\n",
    "    \n",
    "    exploration_rate = min_exploration_rate + (max_exploration_rate - min_exploration_rate) * np.exp(-exploration_decay_rate * episode)\n",
    "    rewards_all_episodes.append(rewards_current_episode)\n",
    "\n",
    "print(\"******* Finished **********\")"
   ]
  },
  {
   "cell_type": "code",
   "execution_count": 17,
   "metadata": {},
   "outputs": [
    {
     "data": {
      "text/plain": [
       "array([[  0.        ,   0.        ,   0.        ,   0.        ,\n",
       "          0.        ,   0.        ],\n",
       "       [  2.23931162,  -1.03274318,  -2.23882477,  -2.46028166,\n",
       "          9.6220697 ,  -9.26229101],\n",
       "       [  2.76052055,   2.71558559,   2.69274362,   6.55201437,\n",
       "         14.11880599,  -3.31193966],\n",
       "       ...,\n",
       "       [ -1.22039143,   5.11738257,  -1.25971567,  -1.39722211,\n",
       "         -5.41396145,  -6.0901325 ],\n",
       "       [ -3.12733613,  -3.0782818 ,  -3.05333846,   4.03168293,\n",
       "        -10.17833962,  -8.79774486],\n",
       "       [  1.0605266 ,  -0.16600313,   2.52063417,  17.86420077,\n",
       "         -3.05479366,  -2.5150241 ]])"
      ]
     },
     "execution_count": 17,
     "metadata": {},
     "output_type": "execute_result"
    }
   ],
   "source": [
    "q_table"
   ]
  },
  {
   "cell_type": "code",
   "execution_count": 18,
   "metadata": {},
   "outputs": [
    {
     "name": "stdout",
     "output_type": "stream",
     "text": [
      "Avarage per thousand episodes\n",
      "1000  :  -16.958999999999804\n",
      "2000  :  7.452999999999966\n",
      "3000  :  7.438999999999968\n",
      "4000  :  7.438999999999957\n",
      "5000  :  7.3939999999999655\n",
      "6000  :  7.413999999999967\n",
      "7000  :  7.380999999999962\n",
      "8000  :  7.423999999999956\n",
      "9000  :  7.461999999999965\n",
      "10000  :  7.336999999999968\n",
      "11000  :  7.448999999999954\n",
      "12000  :  7.599999999999966\n",
      "13000  :  7.438999999999961\n",
      "14000  :  7.3029999999999555\n",
      "15000  :  7.324999999999968\n",
      "16000  :  7.429999999999954\n",
      "17000  :  7.373999999999981\n",
      "18000  :  7.345999999999968\n",
      "19000  :  7.428999999999965\n",
      "20000  :  7.2049999999999645\n",
      "21000  :  7.537999999999963\n",
      "22000  :  7.635999999999961\n",
      "23000  :  7.467999999999969\n",
      "24000  :  7.573999999999964\n",
      "25000  :  7.423999999999975\n",
      "26000  :  7.384999999999962\n",
      "27000  :  7.4099999999999495\n",
      "28000  :  7.5589999999999575\n",
      "29000  :  7.234999999999963\n",
      "30000  :  7.575999999999966\n",
      "31000  :  7.472999999999968\n",
      "32000  :  7.380999999999965\n",
      "33000  :  7.2849999999999575\n",
      "34000  :  7.238999999999971\n",
      "35000  :  7.342999999999965\n",
      "36000  :  7.346999999999977\n",
      "37000  :  7.523999999999962\n",
      "38000  :  7.466999999999965\n",
      "39000  :  7.548999999999971\n",
      "40000  :  7.323999999999958\n",
      "41000  :  7.365999999999973\n",
      "42000  :  7.35999999999996\n",
      "43000  :  7.244999999999968\n",
      "44000  :  7.375999999999963\n",
      "45000  :  7.412999999999959\n",
      "46000  :  7.399999999999957\n",
      "47000  :  7.536999999999975\n",
      "48000  :  7.42299999999996\n",
      "49000  :  7.625999999999963\n",
      "50000  :  7.503999999999965\n",
      "51000  :  7.663999999999964\n",
      "52000  :  7.445999999999956\n",
      "53000  :  7.469999999999965\n",
      "54000  :  7.514999999999974\n",
      "55000  :  7.3639999999999635\n",
      "56000  :  7.2839999999999625\n",
      "57000  :  7.468999999999965\n",
      "58000  :  7.375999999999968\n",
      "59000  :  7.5259999999999545\n",
      "60000  :  7.292999999999963\n",
      "61000  :  7.3859999999999655\n",
      "62000  :  7.373999999999973\n",
      "63000  :  7.399999999999961\n",
      "64000  :  7.445999999999958\n",
      "65000  :  7.620999999999971\n",
      "66000  :  7.551999999999968\n",
      "67000  :  7.298999999999959\n",
      "68000  :  7.3859999999999655\n",
      "69000  :  7.418999999999959\n",
      "70000  :  7.659999999999965\n",
      "71000  :  7.516999999999956\n",
      "72000  :  7.26399999999996\n",
      "73000  :  7.554999999999968\n",
      "74000  :  7.429999999999967\n",
      "75000  :  7.472999999999972\n",
      "76000  :  7.315999999999966\n",
      "77000  :  7.289999999999957\n",
      "78000  :  7.30799999999996\n",
      "79000  :  7.312999999999966\n",
      "80000  :  7.324999999999969\n",
      "81000  :  7.476999999999952\n",
      "82000  :  7.274999999999961\n",
      "83000  :  7.494999999999963\n",
      "84000  :  7.43899999999996\n",
      "85000  :  7.511999999999959\n",
      "86000  :  7.299999999999962\n",
      "87000  :  7.649999999999961\n",
      "88000  :  7.302999999999967\n",
      "89000  :  7.5109999999999575\n",
      "90000  :  7.494999999999971\n",
      "91000  :  7.389999999999958\n",
      "92000  :  7.249999999999966\n",
      "93000  :  7.36799999999996\n",
      "94000  :  7.459999999999964\n",
      "95000  :  7.467999999999959\n",
      "96000  :  7.355999999999969\n",
      "97000  :  7.565999999999968\n",
      "98000  :  7.193999999999959\n",
      "99000  :  7.385999999999952\n",
      "100000  :  7.40599999999996\n"
     ]
    }
   ],
   "source": [
    "# calcular reward medio a cada 1000 ep\n",
    "rewards_per_1k_episodes = np.split(np.array(rewards_all_episodes), num_episodes/1000)\n",
    "count = 1000\n",
    "\n",
    "print(\"Avarage per thousand episodes\")\n",
    "for r in rewards_per_1k_episodes:\n",
    "    print(count, ' : ', str(sum(r/1000)))\n",
    "    count += 1000"
   ]
  },
  {
   "cell_type": "code",
   "execution_count": null,
   "metadata": {},
   "outputs": [],
   "source": [
    "# Visualize agent\n",
    "import time\n",
    "\n",
    "for episode in range(3):\n",
    "    state = env.reset()\n",
    "    done = False\n",
    "    print(\"Episode: \", str(episode))\n",
    "    time.sleep(1)\n",
    "    \n",
    "    for step in range(max_steps_per_episode):\n",
    "        clear_output(wait=True)\n",
    "        env.render()\n",
    "        time.sleep(0.5)\n",
    "        action = np.argmax(q_table[state, :])\n",
    "        \n",
    "        new_state, reward, done, info = env.step(action)\n",
    "        \n",
    "        if done:\n",
    "            clear_output(wait=True)\n",
    "            env.render()\n",
    "            time.sleep(0.5)\n",
    "            if reward == 1:\n",
    "                print(\"***Goal***\")\n",
    "                time.sleep(2)\n",
    "                clear_output(wait=True)\n",
    "            else:\n",
    "                print(\"**Fail**\")\n",
    "                time.sleep(2)\n",
    "                clear_output(wait=True)\n",
    "            \n",
    "            break\n",
    "                \n",
    "        state = new_state\n",
    "\n",
    "env.close()"
   ]
  },
  {
   "cell_type": "code",
   "execution_count": null,
   "metadata": {},
   "outputs": [],
   "source": []
  }
 ],
 "metadata": {
  "kernelspec": {
   "display_name": "Python 3",
   "language": "python",
   "name": "python3"
  },
  "language_info": {
   "codemirror_mode": {
    "name": "ipython",
    "version": 3
   },
   "file_extension": ".py",
   "mimetype": "text/x-python",
   "name": "python",
   "nbconvert_exporter": "python",
   "pygments_lexer": "ipython3",
   "version": "3.6.13"
  }
 },
 "nbformat": 4,
 "nbformat_minor": 4
}
